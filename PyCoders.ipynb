{
 "cells": [
  {
   "cell_type": "code",
   "execution_count": 1,
   "metadata": {},
   "outputs": [],
   "source": [
    "import pandas as pd\n",
    "import time"
   ]
  },
  {
   "cell_type": "code",
   "execution_count": 2,
   "metadata": {},
   "outputs": [],
   "source": [
    "df_tempo = pd.DataFrame(columns=[\"execucao\", \"biblioteca\", \"tempo\", \"arquivo\", \"linhas\"])"
   ]
  },
  {
   "cell_type": "code",
   "execution_count": null,
   "metadata": {},
   "outputs": [],
   "source": [
    "def medidor_de_tempo(execucao, biblioteca, funcao, nome_do_arquivo, *args, **kwargs):\n",
    "    global df_tempo\n",
    "    inicio = time.time()\n",
    "    resultado = funcao(*args, **kwargs)\n",
    "    tempo = time.time() - inicio\n",
    "\n",
    "    if resultado is None:\n",
    "        if biblioteca == 'Pandas':\n",
    "            numero_linhas_arq = pd.read_csv(nome_do_arquivo).shape[0]\n",
    "    else:\n",
    "        if biblioteca == 'Pandas':\n",
    "            numero_linhas_arq = resultado.shape[0]\n",
    "        else:\n",
    "            numero_linhas_arq = resultado.count()\n",
    "\n",
    "    df_tempo = pd.concat([df_tempo,\n",
    "                          pd.DataFrame({\n",
    "                              \"execucao\": [execucao],\n",
    "                              \"biblioteca\": [biblioteca],\n",
    "                              \"tempo\": [tempo],\n",
    "                              \"arquivo\": [nome_do_arquivo],\n",
    "                              \"linhas\": [numero_linhas_arq]\n",
    "                          })], ignore_index=True)\n",
    "\n",
    "    return resultado"
   ]
  },
  {
   "cell_type": "markdown",
   "metadata": {},
   "source": [
    "Arquivo com menos de 10.000 linhas com Pandas"
   ]
  },
  {
   "cell_type": "code",
   "execution_count": 15,
   "metadata": {},
   "outputs": [],
   "source": [
    "def extracao(arquivo):\n",
    "    return pd.read_csv(arquivo)\n",
    "\n",
    "arquivo = 'cards_data.csv'\n",
    "\n",
    "df_cards = medidor_de_tempo('Extracao', 'Pandas', extracao, arquivo, arquivo)"
   ]
  },
  {
   "cell_type": "code",
   "execution_count": 16,
   "metadata": {},
   "outputs": [
    {
     "name": "stdout",
     "output_type": "stream",
     "text": [
      "                id    client_id   card_number          cvv  num_cards_issued  \\\n",
      "count  6146.000000  6146.000000  6.146000e+03  6146.000000       6146.000000   \n",
      "mean   3072.500000   994.939636  4.820426e+15   506.220794          1.503091   \n",
      "std    1774.341709   578.614626  1.328582e+15   289.431123          0.519191   \n",
      "min       0.000000     0.000000  3.001055e+14     0.000000          1.000000   \n",
      "25%    1536.250000   492.250000  4.486365e+15   257.000000          1.000000   \n",
      "50%    3072.500000   992.000000  5.108957e+15   516.500000          1.000000   \n",
      "75%    4608.750000  1495.000000  5.585237e+15   756.000000          2.000000   \n",
      "max    6145.000000  1999.000000  6.997197e+15   999.000000          3.000000   \n",
      "\n",
      "       year_pin_last_changed  \n",
      "count            6146.000000  \n",
      "mean             2013.436707  \n",
      "std                 4.270699  \n",
      "min              2002.000000  \n",
      "25%              2010.000000  \n",
      "50%              2013.000000  \n",
      "75%              2017.000000  \n",
      "max              2020.000000  \n"
     ]
    }
   ],
   "source": [
    "def describe(df):\n",
    "    print(df.describe())\n",
    "\n",
    "medidor_de_tempo('Descricao', 'Pandas', describe, arquivo, df_cards)"
   ]
  },
  {
   "cell_type": "code",
   "execution_count": 17,
   "metadata": {},
   "outputs": [],
   "source": [
    "def remover_nulos(df):\n",
    "    return df.dropna()\n",
    "\n",
    "df_cards_sem_nulls = medidor_de_tempo('Remover nulos', 'Pandas', remover_nulos, arquivo, df_cards)"
   ]
  },
  {
   "cell_type": "code",
   "execution_count": 18,
   "metadata": {},
   "outputs": [],
   "source": [
    "def carregar(df, nome):\n",
    "    df.to_csv(nome, index=False)\n",
    "\n",
    "nome = 'cards_data_alterado.csv'\n",
    "medidor_de_tempo('Carregar', 'Pandas', carregar, arquivo, df_cards_sem_nulls, nome)"
   ]
  }
 ],
 "metadata": {
  "kernelspec": {
   "display_name": "base",
   "language": "python",
   "name": "python3"
  },
  "language_info": {
   "codemirror_mode": {
    "name": "ipython",
    "version": 3
   },
   "file_extension": ".py",
   "mimetype": "text/x-python",
   "name": "python",
   "nbconvert_exporter": "python",
   "pygments_lexer": "ipython3",
   "version": "3.10.9"
  }
 },
 "nbformat": 4,
 "nbformat_minor": 2
}
